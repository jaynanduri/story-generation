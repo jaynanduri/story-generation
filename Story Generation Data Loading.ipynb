{
 "cells": [
  {
   "cell_type": "code",
   "execution_count": 21,
   "id": "28cc88d7",
   "metadata": {},
   "outputs": [],
   "source": [
    "import pandas as pd\n",
    "import re"
   ]
  },
  {
   "cell_type": "markdown",
   "id": "2d20c4df",
   "metadata": {},
   "source": [
    "Importing required Libraries and initializing the file paths"
   ]
  },
  {
   "cell_type": "code",
   "execution_count": 22,
   "id": "87ec8292",
   "metadata": {},
   "outputs": [],
   "source": [
    "Train_source =\"writingPrompts/train.wp_source\"\n",
    "Train_target =\"writingPrompts/train.wp_target\"\n",
    "\n",
    "Test_source =\"writingPrompts/test.wp_source\"\n",
    "Test_target =\"writingPrompts/test.wp_target\"\n",
    "\n",
    "Valid_source =\"writingPrompts/valid.wp_source\"\n",
    "Valid_target =\"writingPrompts/valid.wp_target\""
   ]
  },
  {
   "cell_type": "markdown",
   "id": "6bfdab4b",
   "metadata": {},
   "source": [
    "Writing a function to read all the data given "
   ]
  },
  {
   "cell_type": "code",
   "execution_count": 23,
   "id": "ef928410",
   "metadata": {},
   "outputs": [],
   "source": [
    "def read_file(filename):\n",
    "    with open(filename,'r') as file:\n",
    "        data = file.readlines()\n",
    "    data = [\" \".join(i.split()) for i in data]\n",
    "    return data"
   ]
  },
  {
   "cell_type": "markdown",
   "id": "76af7e26",
   "metadata": {},
   "source": [
    "Using the function to get all the data"
   ]
  },
  {
   "cell_type": "code",
   "execution_count": 24,
   "id": "7b343675",
   "metadata": {},
   "outputs": [],
   "source": [
    "Train_source_data = read_file(Train_source)\n",
    "Train_target_data = read_file(Train_target)\n",
    "Test_source_data = read_file(Test_source)\n",
    "Test_target_data = read_file(Test_target)\n",
    "Valid_source_data = read_file(Valid_source)\n",
    "Valid_target_data = read_file(Valid_target)"
   ]
  },
  {
   "cell_type": "code",
   "execution_count": 26,
   "id": "dfeb5aa5",
   "metadata": {},
   "outputs": [
    {
     "data": {
      "text/plain": [
       "['[ WP ] The moon is actually a giant egg , and it has just started to hatch .',\n",
       " '[ WP ] You find a rip in time walking through the alleys . You enter it to find yourself on a metal table with surgical instruments on a chair next to you .',\n",
       " '[ WP ] For years in your youth the same imaginary character appears in your dreams , you are good friends . Years later , when adult , you meet her in real life , she clearly recognises you and tries to avoid you , and you want answers .']"
      ]
     },
     "execution_count": 26,
     "metadata": {},
     "output_type": "execute_result"
    }
   ],
   "source": [
    "Train_source_data[1:4]"
   ]
  },
  {
   "cell_type": "markdown",
   "id": "10feea0f",
   "metadata": {},
   "source": [
    "We could see that in the target data we are containing [WP], [EU] etc and hence writing a cleaning function."
   ]
  },
  {
   "cell_type": "code",
   "execution_count": 27,
   "id": "806506fc",
   "metadata": {},
   "outputs": [
    {
     "data": {
      "text/plain": [
       "\"-Week 18 aboard the Depth Reaver , Circa 2023- <newline> <newline> I walk about the dull gray halls , the artificial gravity making my steps feel almost as if they were on land . Almost . I glance out a window as I pass it by . There 's the sun , and there 's the moon right there . And , of course , there 's the Earth . I kinda miss it . Then again , space is pretty cool . It 's got some brilliant views , and the wifi is surprisingly good . Even countless miles away from the Earth , I can crush Silver noobs on CS GO . <newline> <newline> I pass by Dale Malkowitz , the head scientist on board . <newline> <newline> `` Evening , Dale , '' I say . <newline> <newline> `` What up , Danny ? '' he replies cordially . <newline> <newline> `` Nothin ' much . A little bored , I guess . '' <newline> <newline> He shakes his head in disbelief . `` I really , *really* do n't understand how you can be bored in space . '' <newline> <newline> `` Well hey , '' I say slightly defensively , `` Aside from the views , it 's kinda ... dull . And empty . And stuff . '' <newline> <newline> `` Whatever you say , Wittell , '' he says , not unkindly . Then he walks off . A few moments pass , and then I decide to look out the window right by me . As my eyes scan the inky blackness of space ( again ) , I notice something odd about the moon 's surface . It 's slightly ... cracked . <newline> <newline> `` Hey , Malkowitz ? '' I call out , `` You might wan na check this out ! '' <newline> <newline> He walks over to me casually , probably expecting nothing . `` What ? '' he asks , `` What do you see ? '' <newline> <newline> I point at the moon . His brow furrows . `` Huh ... I guess there 's something up with the surface . I 'll have to look into tha- '' <newline> <newline> Suddenly , the surface cracks a little more . We glance at each other , and then back at the moon , and then at each other again , and then back at the moon again . <newline> <newline> `` What 's going on ? '' I ask , alarmed . <newline> <newline> He 's silent for a minute or two , mouth hanging open . Then , he calls out : `` Janice ! Terry ! Johnny ! Get over here ! Something 's up with the moon . '' <newline> <newline> The other crewmates enter , unsure of what to expect . As their eyes lay upon the moon 's surface cracks , they widen . <newline> <newline> And , by coincidence , more cracks appear at that very moment . And then more . And more . And more . And more ... <newline> <newline> Little bits of the moon begin to float away , torn free of the rest of the surface . We all stare , speechless . And then ... it happens . It *happens* . <newline> <newline> The side of the moon facing us is ... torn away by a ... <newline> <newline> Human ... hand ? <newline> <newline> And we see ... <newline> <newline> A giant ... human face ? ! <newline> <newline> Surprisingly , I can hear my thoughts over my racing heart . *I ca n't help but feel as if I recognize that face ... from the ... * <newline> <newline> *Internet . * <newline> <newline> Suddenly , the great face 's lips move . <newline> <newline> Of course , none of us can actually *hear* it speak , because of the laws of space and whatnot . However , I can read its lips , and it appears to be saying : <newline> <newline> `` Are you sure about that ? ''\""
      ]
     },
     "execution_count": 27,
     "metadata": {},
     "output_type": "execute_result"
    }
   ],
   "source": [
    "Train_target_data[1]"
   ]
  },
  {
   "cell_type": "code",
   "execution_count": 15,
   "id": "2772ab7e",
   "metadata": {},
   "outputs": [],
   "source": [
    "def clean_data(data):\n",
    "    pattern = r\"\\[\\s*[A-Z]{2}\\s*\\]\"\n",
    "    data=[re.sub(pattern,'',i) for i in data]\n",
    "    return data"
   ]
  },
  {
   "cell_type": "code",
   "execution_count": 28,
   "id": "f36a3766",
   "metadata": {},
   "outputs": [],
   "source": [
    "Train_source_data = clean_data(Train_source_data)\n",
    "Test_source_data = clean_data(Test_source_data)\n",
    "Valid_source_data = clean_data(Valid_source_data)"
   ]
  },
  {
   "cell_type": "code",
   "execution_count": 29,
   "id": "4b0af61f",
   "metadata": {},
   "outputs": [
    {
     "data": {
      "text/plain": [
       "[' The moon is actually a giant egg , and it has just started to hatch .',\n",
       " ' You find a rip in time walking through the alleys . You enter it to find yourself on a metal table with surgical instruments on a chair next to you .',\n",
       " ' For years in your youth the same imaginary character appears in your dreams , you are good friends . Years later , when adult , you meet her in real life , she clearly recognises you and tries to avoid you , and you want answers .']"
      ]
     },
     "execution_count": 29,
     "metadata": {},
     "output_type": "execute_result"
    }
   ],
   "source": [
    "Train_source_data[1:4]"
   ]
  },
  {
   "cell_type": "markdown",
   "id": "4b098012",
   "metadata": {},
   "source": []
  },
  {
   "cell_type": "code",
   "execution_count": 31,
   "id": "c58d87c7",
   "metadata": {},
   "outputs": [],
   "source": [
    "target_df = pd.DataFrame({'stories':Train_source_data,'prompts':Train_target_data})\n",
    "target_df.to_csv(\"writingPrompts/target_df.csv\")\n",
    "    "
   ]
  },
  {
   "cell_type": "code",
   "execution_count": 32,
   "id": "b2123888",
   "metadata": {},
   "outputs": [],
   "source": [
    "test_df = pd.DataFrame({'stories':Test_source_data,'prompts':Test_target_data})\n",
    "test_df.to_csv(\"writingPrompts/test_df.csv\")"
   ]
  },
  {
   "cell_type": "code",
   "execution_count": 34,
   "id": "bfae30ba",
   "metadata": {},
   "outputs": [],
   "source": [
    "valid_df = pd.DataFrame({'stories':Valid_source_data,'prompts':Valid_target_data})\n",
    "valid_df.to_csv(\"writingPrompts/valid_df.csv\")"
   ]
  },
  {
   "cell_type": "code",
   "execution_count": null,
   "id": "17a62db3",
   "metadata": {},
   "outputs": [],
   "source": []
  }
 ],
 "metadata": {
  "kernelspec": {
   "display_name": "Python 3 (ipykernel)",
   "language": "python",
   "name": "python3"
  },
  "language_info": {
   "codemirror_mode": {
    "name": "ipython",
    "version": 3
   },
   "file_extension": ".py",
   "mimetype": "text/x-python",
   "name": "python",
   "nbconvert_exporter": "python",
   "pygments_lexer": "ipython3",
   "version": "3.10.9"
  }
 },
 "nbformat": 4,
 "nbformat_minor": 5
}
